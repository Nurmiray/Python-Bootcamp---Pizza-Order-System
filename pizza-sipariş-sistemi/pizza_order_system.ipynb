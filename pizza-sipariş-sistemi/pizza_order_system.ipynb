{
  "nbformat": 4,
  "nbformat_minor": 0,
  "metadata": {
    "colab": {
      "provenance": []
    },
    "kernelspec": {
      "name": "python3",
      "display_name": "Python 3"
    },
    "language_info": {
      "name": "python"
    }
  },
  "cells": [
    {
      "cell_type": "code",
      "execution_count": null,
      "metadata": {
        "id": "O6vmz77110TH"
      },
      "outputs": [],
      "source": [
        "#kütüphaneler\n",
        "import csv\n",
        "from datetime import datetime \n"
      ]
    },
    {
      "cell_type": "code",
      "source": [
        "\n",
        "#Menu.txt dosyasnı değişken adı menupizza olarak açılır \n",
        "def menugösterimi():\n",
        "    with open(\"Menu.txt\", \"w\") as menupizza: \n",
        "        # w parametresi ile o dosya yoksa oluştutur ve yazmaya işlemi gerçekleşir. Varsa üzerine yazar.        \n",
        "        menuicerik = \"\"\"*Lütfen Bir Pizza Tabanı Seçiniz:\n",
        "1: Klasik\n",
        "2: Margarita\n",
        "3: TürkPizza\n",
        "4: Sade Pizza\n",
        "* ve seçeceğiniz sos:\n",
        "11: Zeytin\n",
        "12: Mantarlar\n",
        "13: Keçi Peyniri\n",
        "14: Et\n",
        "15: Soğan\n",
        "16: Mısır\n",
        "*Teşekkür ederiz!\"\"\"\n",
        "        \n",
        "        menupizza.write(menuicerik) \n",
        "        menupizza.close() \n"
      ],
      "metadata": {
        "id": "oR1b0g-U14AY"
      },
      "execution_count": null,
      "outputs": []
    },
    {
      "cell_type": "code",
      "source": [
        "\n",
        "#Menu.txt için fonksiyon çağırma\n",
        "menugösterimi() \n"
      ],
      "metadata": {
        "id": "U8S1TI_B18kc"
      },
      "execution_count": null,
      "outputs": []
    },
    {
      "cell_type": "code",
      "source": [
        "\n",
        "#Pizza sınıfı tanımlanır \n",
        "class Pizza:\n",
        "    def __init__(self, description, cost): \n",
        "        self.description = description \n",
        "        self.cost = cost \n",
        "\n",
        "    def get_description(self):\n",
        "        return self.description \n",
        "\n",
        "    def get_cost(self):\n",
        "        return self.cost \n"
      ],
      "metadata": {
        "id": "CqJ5aaUK2Awa"
      },
      "execution_count": null,
      "outputs": []
    },
    {
      "cell_type": "code",
      "source": [
        "\n",
        "#Pizza sınıfından miras alan alt sınıflar tanımlanır\n",
        "class klasikPizza(Pizza):\n",
        "    def __init__(self):\n",
        "        super().__init__(\"Klasik Pizza\", 90.00)\n",
        "\n",
        "class margaritaPizza(Pizza):\n",
        "    def __init__(self):\n",
        "        super().__init__(\"Margarita Pizza\", 95.00)\n",
        "\n",
        "class turkPizza(Pizza):\n",
        "    def __init__(self):\n",
        "        super().__init__(\"Türk Pizza\", 100.00)\n",
        "\n",
        "class sadePizza(Pizza): \n",
        "    def __init__(self):\n",
        "        super().__init__(\"Sade Pizza\", 80.00)\n"
      ],
      "metadata": {
        "id": "B49RaTYN2BJM"
      },
      "execution_count": null,
      "outputs": []
    },
    {
      "cell_type": "code",
      "source": [
        "\n",
        "#decorator sınıfı tanımlanır\n",
        "class Decorator(Pizza):\n",
        "    def __init__(self, component, description, cost):\n",
        "        self.component = component\n",
        "        self.description = description\n",
        "        self.cost = cost\n",
        "\n",
        "    def get_description(self):\n",
        "        return self.component.get_description() + \" --- Ekstra: \" + Pizza.get_description(self)\n",
        "\n",
        "    def get_cost(self):\n",
        "        return self.component.get_cost() + Pizza.get_cost(self)\n",
        "\n",
        "    def get_saucecost(self):\n",
        "        return self.cost\n",
        "    \n",
        "    def get_saucedescription(self):\n",
        "        return self.description\n",
        "\n"
      ],
      "metadata": {
        "id": "NSS6f1WL2EWt"
      },
      "execution_count": null,
      "outputs": []
    },
    {
      "cell_type": "code",
      "source": [
        "\n",
        "#decorator (miras alma/inheritance) kalıtılan soslar\n",
        "class zeytin(Decorator):\n",
        "    def __init__(self, component):\n",
        "        super().__init__(component, \"Zeytin\", 5.00)\n",
        "\n",
        "class mantar(Decorator):\n",
        "    def __init__(self, component):\n",
        "        super().__init__(component, \"Mantar\", 8.00)\n",
        "\n",
        "class kecipeyniri(Decorator):    \n",
        "    def __init__(self, component):\n",
        "        super().__init__(component, \"Keçi Peyniri\", 10.00)\n",
        "\n",
        "class et(Decorator):\n",
        "    def __init__(self, component):\n",
        "        super().__init__(component, \"Et\", 12.00)\n",
        "\n",
        "class sogan(Decorator):       \n",
        "    def __init__(self, component):\n",
        "        super().__init__(component, \"Soğan\", 8.00)    \n",
        "\n",
        "class misir(Decorator):\n",
        "    def __init__(self, component):\n",
        "        super().__init__(component, \"Mısır\", 9.00)\n",
        "        \n",
        "class ekstrasiz(Decorator):   \n",
        "    def __init__(self, component):\n",
        "        super().__init__(component, \"Extrasız\", 0.00)\n"
      ],
      "metadata": {
        "id": "WNmWqpF82GXm"
      },
      "execution_count": null,
      "outputs": []
    },
    {
      "cell_type": "code",
      "source": [
        "\n",
        "#ID number için\n",
        "def IDvalid(id_number):\n",
        "    id_number = str(id_number) \n",
        "    if not len(id_number) == 11: #11 karakter olup olmadığı kontrol eder\n",
        "        return False\n",
        "    \n",
        "    if not id_number.isdigit(): #sadece rakam olup olmadığına bakar\n",
        "        return False\n",
        "\n",
        "    if int(id_number[0]) == 0: #ID number 0 ile başlayamaz\n",
        "        return False\n",
        "\n",
        "    return True"
      ],
      "metadata": {
        "id": "hNNMWGPQ2Kwx"
      },
      "execution_count": null,
      "outputs": []
    },
    {
      "cell_type": "code",
      "source": [
        "\n",
        "#kredi kartı için\n",
        "def kredikart(debitNo): \n",
        "    if not debitNo.isdigit(): #sadece rakam olup olmadığına bakılır\n",
        "        return False\n",
        "    \n",
        "    if len(debitNo) == 16: # kredi kartı 16 Hanelidir \n",
        "        return True   "
      ],
      "metadata": {
        "id": "rKLPgFg-2N65"
      },
      "execution_count": null,
      "outputs": []
    },
    {
      "cell_type": "code",
      "source": [
        "#Menu.txt göster\n",
        "def show_menu(): \n",
        "    with open('Menu.txt', 'r') as file:\n",
        "        #Bir dosyayı okuma kipinde açmak için ise “r” harfini kullanırız.\n",
        "        pMenu = file.read()\n",
        "        print(pMenu)"
      ],
      "metadata": {
        "id": "3P_D8aIu2PR2"
      },
      "execution_count": null,
      "outputs": []
    },
    {
      "cell_type": "code",
      "source": [
        "\n",
        "#Main fonksiyon tanımla\n",
        "def main():\n",
        "    show_menu()\n",
        "    \n",
        "    while(True):\n",
        "        pizzaseçimi = int(input(\"\\nPizzanızı seçiniz [1-4]: \")) #Pizza Tabanı Seçtirilir\n",
        "        if pizzaseçimi == 1:\n",
        "            pizza = klasikPizza()\n",
        "            break\n",
        "        elif pizzaseçimi == 2:\n",
        "            pizza = margaritaPizza()\n",
        "            break\n",
        "        elif pizzaseçimi == 3:\n",
        "            pizza = turkPizza()\n",
        "            break\n",
        "        elif pizzaseçimi == 4:\n",
        "            pizza = sadePizza()\n",
        "            break\n",
        "        else:\n",
        "            print(\"Yanlış seçim aralığı yaptınız! Lütfen (1-4) arası tekrar seçim yapınız.\")\n",
        "            \n",
        "    orderBase = pizza #Pizza orderBase degiskenine kaydedilir.\n",
        "    \n",
        "    while(True):\n",
        "        pizzasosu = int(input(\"Eklenecek ekstra malzemeyi seçiniz [11-16] (ekstra istemiyorsanız 00 tuşlayın): \")) \n",
        "        if pizzasosu == 11:\n",
        "            pizza = zeytin(pizza) \n",
        "            break\n",
        "        elif pizzasosu == 12:\n",
        "            pizza = mantar(pizza)\n",
        "            break\n",
        "        elif pizzasosu == 13:\n",
        "            pizza = kecipeyniri(pizza)\n",
        "            break\n",
        "        elif pizzasosu == 14:\n",
        "            pizza = et(pizza)\n",
        "            break\n",
        "        elif pizzasosu == 15:\n",
        "            pizza = sogan(pizza)\n",
        "            break\n",
        "        elif pizzasosu == 16:\n",
        "            pizza = misir(pizza)\n",
        "            break\n",
        "        elif pizzasosu == 00:\n",
        "            pizza = ekstrasiz(pizza)\n",
        "            break\n",
        "        else:\n",
        "            print(\"Yanlış seçim aralığı yaptınız! Lütfen (11-16) arası tekrar seçim yapınız.\")\n",
        "\n",
        "          \n",
        "    ad = input(\"Adınız: \")\n",
        "    id_number = input(\"Kimlik No: \")\n",
        "    \n",
        "    while(True):\n",
        "        if IDvalid(id_number): \n",
        "            break\n",
        "        else:\n",
        "            print(\"Burada bir hata var. ID No, 11 haneli rakamlardan oluşmalıdır ve '0' ile başlayamaz. Tekrar Dene.\")\n",
        "            id_number = input(\"Kimlik No: \")\n",
        "    \n",
        "    print(\"\\nSiparişiniz: \")\n",
        "    print(\"Pizza: \" + orderBase.get_description() + ' --- ' + 'Ekstra: ' + pizza.get_saucedescription()) \n",
        "    totalCost = orderBase.get_cost() + pizza.get_saucecost()\n",
        "    print(\"Toplam Tutar: \" + f\"{totalCost} ₺\" )\n",
        "    \n",
        "    kredikartino = input(\"Ödeme için Kredi Kart No Giriniz: \")\n",
        "    \n",
        "    while(True):\n",
        "        if kredikart(kredikartino):\n",
        "            break\n",
        "        else:\n",
        "            print(\"Burada bir hata var. Kredi Kartı No, 16 haneli rakamlardan oluşmalıdır. Tekrar Dene.\")\n",
        "            kredikartino = input(\"Ödeme için Kredi Kart No Giriniz: \")\n",
        "            \n",
        "    geçerlikredikarti = input(\"Şifrenizi Giriniz: \")\n",
        "    \n",
        "    description = pizza.get_description()\n",
        "    cost = pizza.get_cost()\n",
        "    now = datetime.now()\n",
        "    dateTime = now.strftime(\"%d/%m/%Y, %H:%M:%S\")\n",
        "    \n",
        "    print(\"\\nTeşekkürler\")\n",
        "    print(\"\\nSipariş detayları:\")\n",
        "    print(\"AD: \" + ad)\n",
        "    print(\"ID No: \" + id_number)\n",
        "    print(\"Sipariş: \" + description)\n",
        "    print(\"Cost:\" + f\"{cost} ₺\")\n",
        "    print(\"Sipariş Zamanı: \" + dateTime)\n",
        " \n",
        "    with open(\"Orders_Database.csv\", \"a\") as siparisbilgisi: #CSV Database oluşturma\n",
        "        # Dosyayı açarken \"a\" modu ile açarsam. Dosyama ekleme işlemi ( append ) yapabilirim.\n",
        "        database = csv.writer(siparisbilgisi) \n",
        "        database.writerow([ad, id_number, kredikartino, description, cost, dateTime, geçerlikredikarti])\n",
        "                "
      ],
      "metadata": {
        "id": "iU9sn7LI2R-9"
      },
      "execution_count": null,
      "outputs": []
    },
    {
      "cell_type": "code",
      "source": [
        "main() #main fonksiyon çağırma\n"
      ],
      "metadata": {
        "colab": {
          "base_uri": "https://localhost:8080/"
        },
        "id": "vDZkqlsX2UxP",
        "outputId": "9361a6e3-0228-475e-af3b-278c8607b429"
      },
      "execution_count": null,
      "outputs": [
        {
          "output_type": "stream",
          "name": "stdout",
          "text": [
            "*Lütfen Bir Pizza Tabanı Seçiniz:\n",
            "1: Klasik\n",
            "2: Margarita\n",
            "3: TürkPizza\n",
            "4: Sade Pizza\n",
            "* ve seçeceğiniz sos:\n",
            "11: Zeytin\n",
            "12: Mantarlar\n",
            "13: Keçi Peyniri\n",
            "14: Et\n",
            "15: Soğan\n",
            "16: Mısır\n",
            "*Teşekkür ederiz!\n",
            "\n",
            "Pizzanızı seçiniz [1-4]: 12\n",
            "Yanlış seçim aralığı yaptınız! Lütfen (1-4) arası tekrar seçim yapınız.\n",
            "\n",
            "Pizzanızı seçiniz [1-4]: 1\n",
            "Eklenecek ekstra malzemeyi seçiniz [11-16] (ekstra istemiyorsanız 00 tuşlayın): 167\n",
            "Yanlış seçim aralığı yaptınız! Lütfen (11-16) arası tekrar seçim yapınız.\n",
            "Eklenecek ekstra malzemeyi seçiniz [11-16] (ekstra istemiyorsanız 00 tuşlayın): 16\n",
            "Adınız: 123\n",
            "Kimlik No: 123\n",
            "Burada bir hata var. ID No, 11 haneli rakamlardan oluşmalıdır ve '0' ile başlayamaz. Tekrar Dene.\n",
            "Kimlik No: 12345678912\n",
            "\n",
            "Siparişiniz: \n",
            "Pizza: Klasik Pizza --- Ekstra: Mısır\n",
            "Toplam Tutar: 99.0 ₺\n",
            "Ödeme için Kredi Kart No Giriniz: 1234\n",
            "Burada bir hata var. Kredi Kartı No, 16 haneli rakamlardan oluşmalıdır. Tekrar Dene.\n",
            "Ödeme için Kredi Kart No Giriniz: 1324567891234567\n",
            "Şifrenizi Giriniz: 132\n",
            "\n",
            "Teşekkürler\n",
            "\n",
            "Sipariş detayları:\n",
            "AD: 123\n",
            "ID No: 12345678912\n",
            "Sipariş: Klasik Pizza --- Ekstra: Mısır\n",
            "Cost:99.0 ₺\n",
            "Sipariş Zamanı: 11/03/2023, 13:37:01\n"
          ]
        }
      ]
    }
  ]
}